{
 "cells": [
  {
   "cell_type": "code",
   "execution_count": 1,
   "metadata": {},
   "outputs": [
    {
     "name": "stderr",
     "output_type": "stream",
     "text": [
      "C:\\Users\\admin\\AppData\\Local\\Temp/ipykernel_9476/1646494204.py:2: UserWarning: Named tensors and all their associated APIs are an experimental feature and subject to change. Please do not use them for anything important until they are released as stable. (Triggered internally at  C:\\cb\\pytorch_1000000000000\\work\\c10/core/TensorImpl.h:1463.)\n",
      "  _ = torch.tensor([0.2126, 0.7152, 0.0722], names=['c'])\n"
     ]
    }
   ],
   "source": [
    "import torch\n",
    "_ = torch.tensor([0.2126, 0.7152, 0.0722], names=['c'])"
   ]
  },
  {
   "cell_type": "code",
   "execution_count": 7,
   "metadata": {},
   "outputs": [
    {
     "data": {
      "text/plain": [
       "tensor([[[ 1.1037e+00,  1.4392e+00, -3.5836e-01,  7.9435e-01,  6.7121e-01],\n",
       "         [-1.0970e+00, -4.2297e-01, -2.4045e-03, -5.7709e-02,  1.4724e-01],\n",
       "         [-1.7418e+00, -2.7463e-02, -3.7804e-01, -7.6358e-02,  3.0472e-01],\n",
       "         [ 1.5840e+00,  3.3846e-01,  5.2824e-01, -1.2366e+00, -2.8236e-01],\n",
       "         [ 6.9662e-01,  7.4696e-01, -6.6031e-01,  4.3189e-02,  1.0318e+00]],\n",
       "\n",
       "        [[-6.3548e-01, -2.8791e-01,  2.1660e-01,  5.3436e-01,  1.2432e+00],\n",
       "         [-8.6601e-01,  1.9191e+00,  1.4561e+00, -4.0465e-01,  1.5083e-01],\n",
       "         [ 4.2625e-01, -1.6505e+00,  9.8866e-01,  5.9331e-01, -1.2580e+00],\n",
       "         [-4.2954e-01, -6.3082e-01, -2.2976e-01,  6.6967e-01, -1.1209e+00],\n",
       "         [-1.3493e+00,  7.5996e-01,  1.7215e+00,  1.0247e+00, -2.4673e-01]],\n",
       "\n",
       "        [[ 1.2862e+00,  2.4867e+00,  1.1233e+00, -1.2427e-01,  3.9728e-01],\n",
       "         [ 5.5449e-01, -1.4797e+00, -1.3597e+00,  3.5796e-01, -1.2417e+00],\n",
       "         [-1.6472e+00,  7.0296e-01, -9.4466e-01, -3.6383e-01,  2.7250e-02],\n",
       "         [ 1.2042e+00,  3.2339e-01, -1.0285e+00,  7.1376e-01, -1.1321e+00],\n",
       "         [-3.6334e-01,  1.3728e+00,  1.1443e+00,  5.1172e-01,  1.8182e-02]]])"
      ]
     },
     "execution_count": 7,
     "metadata": {},
     "output_type": "execute_result"
    }
   ],
   "source": [
    "img_t = torch.randn(3, 5, 5) # shape [channels, rows, columns]\n",
    "weights = torch.tensor([0.2126, 0.7152, 0.0722])\n",
    "img_t"
   ]
  },
  {
   "cell_type": "code",
   "execution_count": 10,
   "metadata": {},
   "outputs": [
    {
     "data": {
      "text/plain": [
       "tensor([[[[-6.5665e-01, -2.3059e-01,  1.9732e-01,  3.8371e-01, -1.6790e-01],\n",
       "          [-5.4958e-02, -7.7166e-01,  7.6009e-01, -6.3151e-01,  7.5304e-01],\n",
       "          [ 2.6778e-01,  6.7157e-01, -1.1553e+00,  1.5891e+00, -1.9389e-01],\n",
       "          [-8.2352e-01,  8.7794e-01,  1.6703e-02,  1.3123e+00,  6.7534e-01],\n",
       "          [-1.3656e+00, -1.2980e-01,  1.1097e-01, -8.1000e-01, -6.0951e-01]],\n",
       "\n",
       "         [[ 2.3078e-01, -1.0925e+00, -1.7024e-01,  8.8689e-01,  6.9142e-01],\n",
       "          [ 3.8064e-01,  7.1490e-01,  8.8415e-01, -2.3650e-02, -1.6536e+00],\n",
       "          [ 1.8148e+00, -4.1126e-01,  1.8979e-01,  1.3921e+00, -9.0453e-02],\n",
       "          [ 9.5413e-01,  1.7635e+00,  8.0903e-01,  1.4688e+00, -1.6528e+00],\n",
       "          [-1.0375e+00,  1.2199e+00,  5.4941e-01,  6.1756e-01, -9.1349e-01]],\n",
       "\n",
       "         [[-4.0098e-02, -2.3632e+00,  6.4505e-01,  2.7197e-01, -4.8096e-01],\n",
       "          [-2.5121e-01,  7.9613e-01,  1.7434e+00,  2.6449e-01,  1.4592e+00],\n",
       "          [-6.2176e-01, -1.3081e+00, -9.1573e-01, -4.0822e-01, -1.1428e+00],\n",
       "          [ 4.7817e-01,  1.5259e+00, -1.1402e+00, -2.7571e-02, -5.7138e-01],\n",
       "          [-1.4043e+00, -9.5389e-01,  1.9223e+00,  2.7138e+00, -8.3280e-01]]],\n",
       "\n",
       "\n",
       "        [[[ 4.5382e-01, -5.8978e-01, -1.0361e+00, -9.5512e-01, -4.0525e-01],\n",
       "          [-1.3199e+00, -4.9438e-01,  4.2690e-01, -2.4728e-03, -2.2869e+00],\n",
       "          [ 2.6937e+00, -1.6723e-01, -1.3487e+00,  2.2453e-01, -1.3293e+00],\n",
       "          [-3.5279e-01,  3.8094e-01,  6.3406e-01, -4.2051e-01, -9.2285e-01],\n",
       "          [-3.5747e-01, -1.5186e-01,  3.8028e-01, -2.2049e-01, -9.9282e-01]],\n",
       "\n",
       "         [[ 2.6563e-02,  1.1614e+00, -1.0702e+00, -1.5677e-01,  1.4916e+00],\n",
       "          [-6.9314e-02, -1.1466e+00, -8.9052e-01,  2.0953e-01, -4.4139e-01],\n",
       "          [ 1.0909e+00,  4.8315e-01,  1.8390e+00,  1.4505e-01, -2.6838e-01],\n",
       "          [-7.7807e-01,  2.1188e-01, -2.6437e-01, -1.7444e-01, -1.4319e+00],\n",
       "          [ 1.5153e+00, -6.4302e-01, -2.5223e-01,  1.6719e-01,  9.8668e-01]],\n",
       "\n",
       "         [[-1.9791e-02,  5.1264e-01,  1.2537e+00,  6.5807e-01,  1.0620e+00],\n",
       "          [-1.0742e+00, -6.9835e-01,  2.8924e-01, -4.2543e-01, -1.1231e-01],\n",
       "          [ 1.3799e+00, -1.2960e+00,  4.4643e-01, -1.0334e+00, -9.5411e-01],\n",
       "          [-1.0292e+00, -7.9108e-02,  8.9160e-01, -1.7248e+00,  2.6867e-02],\n",
       "          [ 3.5540e-01,  5.6674e-01, -9.3422e-01,  2.0259e-01, -1.1220e+00]]]])"
      ]
     },
     "execution_count": 10,
     "metadata": {},
     "output_type": "execute_result"
    }
   ],
   "source": [
    "batch_t = torch.randn(2, 3, 5, 5) # shape [batch, channels, rows, columns]\n",
    "batch_t"
   ]
  },
  {
   "cell_type": "code",
   "execution_count": 11,
   "metadata": {},
   "outputs": [
    {
     "data": {
      "text/plain": [
       "(torch.Size([5, 5]), torch.Size([2, 5, 5]))"
      ]
     },
     "execution_count": 11,
     "metadata": {},
     "output_type": "execute_result"
    }
   ],
   "source": [
    "img_gray_naive = img_t.mean(-3)\n",
    "batch_gray_naive = batch_t.mean(-3)\n",
    "img_gray_naive.shape, batch_gray_naive.shape"
   ]
  },
  {
   "cell_type": "code",
   "execution_count": 12,
   "metadata": {},
   "outputs": [
    {
     "data": {
      "text/plain": [
       "(torch.Size([2, 3, 5, 5]), torch.Size([2, 3, 5, 5]), torch.Size([3, 1, 1]))"
      ]
     },
     "execution_count": 12,
     "metadata": {},
     "output_type": "execute_result"
    }
   ],
   "source": [
    "unsqueezed_weights = weights.unsqueeze(-1).unsqueeze_(-1)\n",
    "img_weights = (img_t * unsqueezed_weights)\n",
    "batch_weights = (batch_t * unsqueezed_weights)\n",
    "img_gray_weighted = img_weights.sum(-3)\n",
    "batch_gray_weighted = batch_weights.sum(-3)\n",
    "batch_weights.shape, batch_t.shape, unsqueezed_weights.shape"
   ]
  },
  {
   "cell_type": "code",
   "execution_count": 13,
   "metadata": {
    "scrolled": true
   },
   "outputs": [
    {
     "data": {
      "text/plain": [
       "torch.Size([2, 5, 5])"
      ]
     },
     "execution_count": 13,
     "metadata": {},
     "output_type": "execute_result"
    }
   ],
   "source": [
    "img_gray_weighted_fancy = torch.einsum('...chw,c->...hw', img_t, weights)\n",
    "batch_gray_weighted_fancy = torch.einsum('...chw,c->...hw', batch_t, weights)\n",
    "batch_gray_weighted_fancy.shape"
   ]
  },
  {
   "cell_type": "code",
   "execution_count": 14,
   "metadata": {},
   "outputs": [
    {
     "data": {
      "text/plain": [
       "tensor([0.2126, 0.7152, 0.0722], names=('channels',))"
      ]
     },
     "execution_count": 14,
     "metadata": {},
     "output_type": "execute_result"
    }
   ],
   "source": [
    "weights_named = torch.tensor([0.2126, 0.7152, 0.0722], names=['channels'])\n",
    "weights_named"
   ]
  },
  {
   "cell_type": "code",
   "execution_count": 8,
   "metadata": {
    "scrolled": false
   },
   "outputs": [
    {
     "name": "stdout",
     "output_type": "stream",
     "text": [
      "img named: torch.Size([3, 5, 5]) ('channels', 'rows', 'columns')\n",
      "batch named: torch.Size([2, 3, 5, 5]) (None, 'channels', 'rows', 'columns')\n"
     ]
    }
   ],
   "source": [
    "img_named =  img_t.refine_names(..., 'channels', 'rows', 'columns')\n",
    "batch_named = batch_t.refine_names(..., 'channels', 'rows', 'columns')\n",
    "print(\"img named:\", img_named.shape, img_named.names)\n",
    "print(\"batch named:\", batch_named.shape, batch_named.names)"
   ]
  },
  {
   "cell_type": "code",
   "execution_count": 9,
   "metadata": {
    "scrolled": false
   },
   "outputs": [
    {
     "data": {
      "text/plain": [
       "(torch.Size([3, 1, 1]), ('channels', 'rows', 'columns'))"
      ]
     },
     "execution_count": 9,
     "metadata": {},
     "output_type": "execute_result"
    }
   ],
   "source": [
    "weights_aligned = weights_named.align_as(img_named)\n",
    "weights_aligned.shape, weights_aligned.names"
   ]
  },
  {
   "cell_type": "code",
   "execution_count": 10,
   "metadata": {
    "scrolled": true
   },
   "outputs": [
    {
     "data": {
      "text/plain": [
       "(torch.Size([5, 5]), ('rows', 'columns'))"
      ]
     },
     "execution_count": 10,
     "metadata": {},
     "output_type": "execute_result"
    }
   ],
   "source": [
    "gray_named = (img_named * weights_aligned).sum('channels')\n",
    "gray_named.shape, gray_named.names"
   ]
  },
  {
   "cell_type": "code",
   "execution_count": 11,
   "metadata": {
    "scrolled": true
   },
   "outputs": [
    {
     "name": "stdout",
     "output_type": "stream",
     "text": [
      "Error when attempting to broadcast dims ['channels', 'rows', 'columns'] and dims ['channels']: dim 'columns' and dim 'channels' are at the same position from the right but do not match.\n"
     ]
    }
   ],
   "source": [
    "try:\n",
    "    gray_named = (img_named[..., :3] * weights_named).sum('channels')\n",
    "except Exception as e:\n",
    "    print(e)"
   ]
  },
  {
   "cell_type": "code",
   "execution_count": 12,
   "metadata": {},
   "outputs": [
    {
     "data": {
      "text/plain": [
       "(torch.Size([5, 5]), (None, None))"
      ]
     },
     "execution_count": 12,
     "metadata": {},
     "output_type": "execute_result"
    }
   ],
   "source": [
    "gray_plain = gray_named.rename(None)\n",
    "gray_plain.shape, gray_plain.names"
   ]
  },
  {
   "cell_type": "code",
   "execution_count": null,
   "metadata": {},
   "outputs": [],
   "source": []
  },
  {
   "cell_type": "code",
   "execution_count": null,
   "metadata": {},
   "outputs": [],
   "source": []
  }
 ],
 "metadata": {
  "kernelspec": {
   "display_name": "Python 3 (ipykernel)",
   "language": "python",
   "name": "python3"
  },
  "language_info": {
   "codemirror_mode": {
    "name": "ipython",
    "version": 3
   },
   "file_extension": ".py",
   "mimetype": "text/x-python",
   "name": "python",
   "nbconvert_exporter": "python",
   "pygments_lexer": "ipython3",
   "version": "3.9.7"
  }
 },
 "nbformat": 4,
 "nbformat_minor": 2
}
